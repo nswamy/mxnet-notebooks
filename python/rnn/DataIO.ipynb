{
 "cells": [
  {
   "cell_type": "code",
   "execution_count": 1,
   "metadata": {
    "collapsed": true
   },
   "outputs": [],
   "source": [
    "from __future__ import unicode_literals, print_function, division\n",
    "from io import open\n",
    "import glob\n",
    "import zipfile\n",
    "import unicodedata\n",
    "import string\n",
    "import random\n",
    "import time\n",
    "import math\n",
    "import numpy as np\n",
    "import mxnet as mx\n",
    "import os\n"
   ]
  },
  {
   "cell_type": "code",
   "execution_count": 2,
   "metadata": {
    "collapsed": true
   },
   "outputs": [],
   "source": [
    "data_dir_name='./char-rnn-data'"
   ]
  },
  {
   "cell_type": "code",
   "execution_count": 3,
   "metadata": {},
   "outputs": [
    {
     "name": "stdout",
     "output_type": "stream",
     "text": [
      "./char-rnn-data/data.zip\n"
     ]
    }
   ],
   "source": [
    "def download_data(data_dir_name):\n",
    "    fname = mx.test_utils.download(url='https://download.pytorch.org/tutorial/data.zip', dirname=data_dir_name, overwrite=False)\n",
    "    print (fname)\n",
    "    zip = zipfile.ZipFile(fname)\n",
    "    zip.extractall(data_dir_name)\n",
    "    zip.close()\n",
    "\n",
    "download_data(data_dir_name)"
   ]
  },
  {
   "cell_type": "code",
   "execution_count": 4,
   "metadata": {},
   "outputs": [
    {
     "name": "stdout",
     "output_type": "stream",
     "text": [
      "Language Categories: [u'Portuguese', u'Scottish', u'English', u'Vietnamese', u'Japanese', u'German', u'Polish', u'Spanish', u'Korean', u'French', u'Russian', u'Arabic', u'Dutch', u'Irish', u'Greek', u'Czech', u'Chinese', u'Italian']\n"
     ]
    }
   ],
   "source": [
    "def findFiles(path): return glob.glob(path)\n",
    "\n",
    "all_letters = string.ascii_letters + \" .,;'\"\n",
    "vocab_size = len(all_letters)\n",
    "\n",
    "# Turn a Unicode string to plain ASCII, thanks to http://stackoverflow.com/a/518232/2809427\n",
    "def unicodeToAscii(s):\n",
    "    return ''.join(\n",
    "        c for c in unicodedata.normalize('NFD', s)\n",
    "        if unicodedata.category(c) != 'Mn'\n",
    "        and c in all_letters\n",
    "    )\n",
    "\n",
    "# Build the category_lines dictionary, a list of names per language\n",
    "category_lines = {}\n",
    "all_categories = []\n",
    "total_lines = 0\n",
    "\n",
    "# Read a file and split into lines\n",
    "def readLines(filename):\n",
    "    lines = open(filename, encoding='utf-8').read().strip().split('\\n')\n",
    "    return [unicodeToAscii(line) for line in lines]\n",
    "\n",
    "for filename in findFiles(data_dir_name + '/data/names/*.txt'):\n",
    "    category = filename.split('/')[-1].split('.')[0]\n",
    "    all_categories.append(category)\n",
    "    lines = readLines(filename)\n",
    "    category_lines[category] = lines\n",
    "    total_lines += len(lines)\n",
    "\n",
    "n_categories = len(all_categories)\n",
    "\n",
    "print('Language Categories:', all_categories)"
   ]
  },
  {
   "cell_type": "code",
   "execution_count": 9,
   "metadata": {},
   "outputs": [
    {
     "name": "stdout",
     "output_type": "stream",
     "text": [
      "./char-rnn-data/data123.txt\n"
     ]
    }
   ],
   "source": [
    "with open(data_dir_name + '/data123.txt', 'w') as d:\n",
    "    print (d.name)\n",
    "    for category in all_categories:\n",
    "        for line in category_lines[category]:\n",
    "            d.write(line)\n",
    "            d.write(',')\n",
    "            d.write(category)\n",
    "            d.write('\\n')"
   ]
  },
  {
   "cell_type": "code",
   "execution_count": 33,
   "metadata": {
    "collapsed": true
   },
   "outputs": [],
   "source": [
    "val_data ={}\n",
    "for key in category_lines:\n",
    "    val_data[key] = category_lines[key][:int(0.10 * len(category_lines[key]))]\n",
    "    del category_lines[key][:int(0.10 * len(category_lines[key]))]"
   ]
  },
  {
   "cell_type": "code",
   "execution_count": 34,
   "metadata": {},
   "outputs": [
    {
     "name": "stdout",
     "output_type": "stream",
     "text": [
      "18076\n",
      "1998\n"
     ]
    }
   ],
   "source": [
    "num_l=0\n",
    "num_v=0\n",
    "for key in category_lines:\n",
    "    num_l += len(category_lines[key])\n",
    "    num_v += len(val_data[key])\n",
    "\n",
    "print(num_l)\n",
    "print(num_v)"
   ]
  },
  {
   "cell_type": "code",
   "execution_count": null,
   "metadata": {
    "collapsed": true
   },
   "outputs": [],
   "source": []
  },
  {
   "cell_type": "code",
   "execution_count": 84,
   "metadata": {
    "collapsed": true
   },
   "outputs": [],
   "source": [
    "with open(data_dir_name + '/train_data.txt', 'w') as d, open(data_dir_name + '/train_label.txt', 'w') as l, open(data_dir_name + '/val_data.txt', 'w') as vd, open(data_dir_name + '/val_label.txt', 'w') as vl:\n",
    "    for category in all_categories:\n",
    "        for line in category_lines[category]:\n",
    "            d.write(line)\n",
    "            d.write('\\n')\n",
    "            l.write(category)\n",
    "            l.write('\\n')\n",
    "        for line in val_data[category]:\n",
    "            vd.write(line)\n",
    "            vd.write('\\n')\n",
    "            vl.write(category)\n",
    "            vl.write('\\n')"
   ]
  },
  {
   "cell_type": "code",
   "execution_count": 51,
   "metadata": {
    "collapsed": true
   },
   "outputs": [],
   "source": [
    "with zipfile.ZipFile(data_dir_name+'.zip', 'w', zipfile.ZIP_DEFLATED) as ziph:\n",
    "    # ziph is zipfile handle\n",
    "    for root, dirs, files in os.walk(data_dir_name):\n",
    "        for file in files:\n",
    "            ziph.write(os.path.join(root, file))\n"
   ]
  },
  {
   "cell_type": "code",
   "execution_count": 3,
   "metadata": {},
   "outputs": [
    {
     "name": "stdout",
     "output_type": "stream",
     "text": [
      "zz/char-rnn-data.zip\n"
     ]
    }
   ],
   "source": [
    "def download_data(data_dir_name):\n",
    "    fname = mx.test_utils.download(url='http://github.com/nswamy/web-data/blob/char_rnn/mxnet/doc/tutorials/rnn/char-rnn-data.zip', dirname=data_dir_name, overwrite=True)\n",
    "    print (fname)\n",
    "#     zip = zipfile.ZipFile(fname)\n",
    "#     zip.extractall(data_dir_name)\n",
    "#     zip.close()\n",
    "\n",
    "download_data('zz')"
   ]
  },
  {
   "cell_type": "code",
   "execution_count": 60,
   "metadata": {
    "collapsed": true
   },
   "outputs": [],
   "source": []
  },
  {
   "cell_type": "code",
   "execution_count": 85,
   "metadata": {
    "collapsed": true
   },
   "outputs": [],
   "source": [
    "def read_input(path):\n",
    "    with open(path + '/train_data.txt', 'r') as td, open(path + '/train_label.txt', 'r') as tl:\n",
    "        train_data = [line.strip('\\n') for line in td.readlines()]\n",
    "        train_label = [line.strip('\\n') for line in tl.readlines()]\n",
    "\n",
    "    with open(path + '/val_data.txt', 'r') as vd, open(path + '/val_label.txt', 'r') as vl:\n",
    "        eval_data = [line.strip('\\n') for line in vd.readlines()]\n",
    "        eval_label = [line.strip('\\n') for line in vl.readlines()]\n",
    "\n",
    "    return train_data, train_label, eval_data, eval_label\n",
    "\n",
    "train_data, train_label, eval_data, eval_label = read_input(data_dir_name)"
   ]
  },
  {
   "cell_type": "code",
   "execution_count": 91,
   "metadata": {
    "collapsed": true
   },
   "outputs": [],
   "source": [
    "vocab = string.ascii_letters + \" .,;'\"\n",
    "train_labels_unique = list(set(train_label))\n",
    "eval_labels_unique = list(set(eval_label))"
   ]
  },
  {
   "cell_type": "code",
   "execution_count": 118,
   "metadata": {
    "collapsed": true
   },
   "outputs": [],
   "source": [
    "eval_label_onehot = mx.nd.one_hot(mx.nd.array([eval_labels_unique.index(label) for label in eval_label]), len(eval_labels_unique))\n",
    "train_label_onehot = mx.nd.one_hot(mx.nd.array([train_labels_unique.index(label) for label in train_label]), len(train_labels_unique))"
   ]
  },
  {
   "cell_type": "code",
   "execution_count": 119,
   "metadata": {
    "collapsed": true
   },
   "outputs": [],
   "source": [
    "train_data_onehot = [mx.nd.one_hot(mx.nd.array([vocab.find(ch) for ch in line]), vocab_size) for line in train_data]\n",
    "eval_data_onehot = [mx.nd.one_hot(mx.nd.array([vocab.find(ch) for ch in line]), vocab_size) for line in eval_data]"
   ]
  },
  {
   "cell_type": "code",
   "execution_count": 120,
   "metadata": {
    "collapsed": true
   },
   "outputs": [],
   "source": [
    "mx.io.NDArrayIter?"
   ]
  },
  {
   "cell_type": "code",
   "execution_count": null,
   "metadata": {
    "collapsed": true
   },
   "outputs": [],
   "source": []
  }
 ],
 "metadata": {
  "kernelspec": {
   "display_name": "Python 2",
   "language": "python",
   "name": "python2"
  },
  "language_info": {
   "codemirror_mode": {
    "name": "ipython",
    "version": 2
   },
   "file_extension": ".py",
   "mimetype": "text/x-python",
   "name": "python",
   "nbconvert_exporter": "python",
   "pygments_lexer": "ipython2",
   "version": "2.7.6"
  }
 },
 "nbformat": 4,
 "nbformat_minor": 2
}
