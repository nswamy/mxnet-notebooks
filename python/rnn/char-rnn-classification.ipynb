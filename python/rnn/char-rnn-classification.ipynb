{
 "cells": [
  {
   "cell_type": "markdown",
   "metadata": {},
   "source": [
    "## Preparing the Data\n",
    "We will Download the [data -- fill me up]() and extract it to the current directory.\n",
    "Included in the ``data/names`` directory are 18 text files named as\n",
    "\"[Language].txt\". Each file contains a bunch of names, one name per\n",
    "line, mostly romanized (but we still need to convert from Unicode to\n",
    "ASCII).\n",
    "\n",
    "We'll end up with a dictionary of lists of names per language,\n",
    "``{language: [names ...]}``. The generic variables \"category\" and \"line\"\n",
    "(for language and name in our case) are used for later extensibility.\n"
   ]
  },
  {
   "cell_type": "code",
   "execution_count": 51,
   "metadata": {
    "collapsed": true
   },
   "outputs": [],
   "source": [
    "from __future__ import unicode_literals, print_function, division\n",
    "from io import open\n",
    "import glob\n",
    "import zipfile\n",
    "import unicodedata\n",
    "import string\n",
    "import random\n",
    "import time\n",
    "import math\n",
    "\n",
    "import mxnet as mx\n",
    "from mxnet.gluon import nn\n",
    "from mxnet.gluon import rnn\n",
    "from mxnet import gluon, autograd"
   ]
  },
  {
   "cell_type": "markdown",
   "metadata": {},
   "source": [
    "### Change data location below"
   ]
  },
  {
   "cell_type": "code",
   "execution_count": 52,
   "metadata": {
    "collapsed": true
   },
   "outputs": [],
   "source": [
    "data_dir_name='./char-rnn-data'"
   ]
  },
  {
   "cell_type": "code",
   "execution_count": 53,
   "metadata": {
    "collapsed": true
   },
   "outputs": [],
   "source": [
    "def download_data(data_dir_name):\n",
    "    fname = mx.test_utils.download(url='https://download.pytorch.org/tutorial/data.zip', dirname=data_dir_name, overwrite=False)\n",
    "    zip = zipfile.ZipFile(fname)\n",
    "    zip.extractall(data_dir_name)\n",
    "    zip.close()\n",
    "\n",
    "download_data(data_dir_name)"
   ]
  },
  {
   "cell_type": "code",
   "execution_count": 54,
   "metadata": {},
   "outputs": [
    {
     "name": "stdout",
     "output_type": "stream",
     "text": [
      "num_data: 20074\n",
      "num_train: 18067\n",
      "num_eval: 2007\n",
      "num_train_label: 18067\n",
      "num_eval_label: 2007\n",
      "vocab_size: 57\n",
      "num_labels: 18\n"
     ]
    }
   ],
   "source": [
    "all_lines = []\n",
    "with open(data_dir_name + '/data.txt', 'r' ) as d:\n",
    "    all_lines = [l.strip() for l in d.readlines()]\n",
    "\n",
    "import random\n",
    "# we will assume a batch size of 1 and shuffle all lines, typically the shuffling should happen \n",
    "# for each mini-batch to preserve temporal data.\n",
    "random.shuffle(all_lines)\n",
    "\n",
    "all_lines = [line.split(',') for line in all_lines]\n",
    "all_lines = filter(None, all_lines) \n",
    "\n",
    "names_all = [l[0].strip() for l in all_lines]\n",
    "all_lines = filter(None, all_lines) \n",
    "\n",
    "categories_all = [l[1].strip() for l in all_lines]\n",
    "categories_all = filter(None, categories_all) \n",
    "\n",
    "categories = list(set(categories_all))\n",
    "n_categories = len(categories)\n",
    "\n",
    "# we will choose 10% of data for evaluation and 10% for test\n",
    "num_eval = int(0.10 * len(names_all))\n",
    "\n",
    "train_data = names_all[0:-num_eval]\n",
    "eval_data = names_all[-num_eval:] \n",
    "\n",
    "num_train = len(train_data)\n",
    "\n",
    "train_label = categories_all[0:-num_eval]\n",
    "eval_label = categories_all[-num_eval:] \n",
    "\n",
    "vocab = string.ascii_letters + \" .,;'\"\n",
    "vocab_size = len(vocab)\n",
    "\n",
    "print('num_data:', len(names_all))\n",
    "print('num_train:', len(train_data))\n",
    "print('num_eval:', len(eval_data))\n",
    "print('num_train_label:', len(train_label))\n",
    "print('num_eval_label:', len(eval_label))\n",
    "\n",
    "print('vocab_size:', vocab_size)\n",
    "print('num_labels:', n_categories)"
   ]
  },
  {
   "cell_type": "code",
   "execution_count": 55,
   "metadata": {
    "collapsed": true
   },
   "outputs": [],
   "source": [
    "train_data_onehot = [mx.nd.one_hot(mx.nd.array([vocab.find(ch) for ch in line]), vocab_size) for line in train_data]\n",
    "train_label_onehot = [mx.nd.one_hot(mx.nd.array([categories.index(label)]), n_categories) for label in train_label]\n",
    "\n",
    "eval_data_onehot = [mx.nd.one_hot(mx.nd.array([vocab.find(ch) for ch in line]), vocab_size) for line in eval_data]\n",
    "eval_label_onehot = [mx.nd.one_hot(mx.nd.array([categories.index(label)]), n_categories) for label in eval_label]"
   ]
  },
  {
   "cell_type": "code",
   "execution_count": 56,
   "metadata": {},
   "outputs": [
    {
     "name": "stdout",
     "output_type": "stream",
     "text": [
      "train_data.len 18067\n",
      "train_data.shape (9L, 57L)\n",
      "num_train: 18067\n",
      "eval_data.len 2007 eval_label.len 2007\n",
      "eval_data.shape (9L, 57L) eval_label.shape (1L, 18L)\n",
      "num_eval: 2007\n"
     ]
    }
   ],
   "source": [
    "print('train_data.len', len(train_data_onehot))\n",
    "print('train_data.shape', train_data_onehot[0].shape)\n",
    "print('num_train:', num_train)\n",
    "\n",
    "print('eval_data.len', len(eval_data_onehot), 'eval_label.len', len(eval_label_onehot))\n",
    "print('eval_data.shape', eval_data_onehot[0].shape, 'eval_label.shape', eval_label_onehot[0].shape)\n",
    "print('num_eval:', num_eval)"
   ]
  },
  {
   "cell_type": "code",
   "execution_count": 57,
   "metadata": {
    "collapsed": true
   },
   "outputs": [],
   "source": [
    "num_hidden = 50\n",
    "num_layers = 2\n",
    "batch_size = 1\n",
    "num_epochs = 20"
   ]
  },
  {
   "cell_type": "code",
   "execution_count": 58,
   "metadata": {
    "collapsed": true
   },
   "outputs": [],
   "source": [
    "ctx = mx.gpu(0)"
   ]
  },
  {
   "cell_type": "code",
   "execution_count": 59,
   "metadata": {
    "collapsed": true
   },
   "outputs": [],
   "source": [
    "def timeSince(since):\n",
    "    now = time.time()\n",
    "    s = now - since\n",
    "    m = math.floor(s / 60)\n",
    "    s -= m * 60\n",
    "    return '%dm %ds' % (m, s)"
   ]
  },
  {
   "cell_type": "code",
   "execution_count": null,
   "metadata": {},
   "outputs": [],
   "source": []
  },
  {
   "cell_type": "code",
   "execution_count": 60,
   "metadata": {
    "collapsed": true
   },
   "outputs": [],
   "source": [
    "class RNN(gluon.Block):\n",
    "    def __init__(self, num_layers, num_hidden, num_output_class, dropout_prob=0.5, **kwargs):\n",
    "        super(RNN, self).__init__(**kwargs)\n",
    "        self.num_layers = num_layers\n",
    "        self.dropout_prob = dropout_prob\n",
    "        \n",
    "        with self.name_scope():\n",
    "            self.drop = nn.Dropout(dropout_prob)            \n",
    "            self.stack = rnn.SequentialRNNCell()\n",
    "            for n in range(num_layers):\n",
    "                self.stack.add(rnn.LSTMCell(hidden_size=num_hidden, prefix='lstm_l%d_'%n))\n",
    "            self.fc = nn.Dense(num_output_class, in_units=num_hidden)\n",
    "\n",
    "    def forward(self, inputs, seq_length):\n",
    "#         print('inputs.shape', inputs.shape)                \n",
    "        lstm_output, hidden = self.stack.unroll(seq_length, inputs, layout='NTC', merge_outputs=True)\n",
    "#         print('lstm_output.shape', lstm_output.shape)        \n",
    "        drop_output = self.drop.forward(lstm_output)\n",
    "#         print('drop_output', drop_output.shape)\n",
    "        \n",
    "        fc_input = mx.nd.sum(drop_output, axis=1)\n",
    "        fc_input = mx.nd.divide(fc_input, seq_length)\n",
    "#         print('fc_input.shape', fc_input.shape)\n",
    "        fc_output = self.fc(fc_input)        \n",
    "#         print('fc_output.shape', fc_output.shape)              \n",
    "        return fc_output"
   ]
  },
  {
   "cell_type": "code",
   "execution_count": 61,
   "metadata": {},
   "outputs": [],
   "source": [
    "model = RNN(num_layers, num_hidden, num_output_class=n_categories)\n",
    "model.collect_params().initialize(mx.init.Xavier(), ctx=ctx)\n",
    "trainer = gluon.Trainer(model.collect_params(), 'sgd', {'learning_rate': 0.001})"
   ]
  },
  {
   "cell_type": "code",
   "execution_count": 62,
   "metadata": {
    "collapsed": true
   },
   "outputs": [],
   "source": [
    "def eval():\n",
    "    total_loss = 0.0\n",
    "    ntotal = 0\n",
    "    hidden = model.stack.begin_state(func=mx.nd.zeros, batch_size=batch_size, ctx=ctx)\n",
    "    \n",
    "    for index in range(num_eval):\n",
    "        data = eval_data_onehot[index].as_in_context(ctx)\n",
    "        data = data.reshape(((1,) + data.shape))\n",
    "        \n",
    "        target = eval_label_onehot[index].as_in_context(ctx)\n",
    "        target = mx.nd.split(data=target, axis=0, num_outputs=1, squeeze_axis=True)\n",
    "\n",
    "        output = model.forward(data, data.shape[1])\n",
    "        output = output.reshape((target.shape[0], 1))\n",
    "        \n",
    "        L = mx.nd.softmax_cross_entropy(output, target)\n",
    "\n",
    "        total_loss += mx.nd.sum(L).asscalar()\n",
    "\n",
    "    return total_loss/num_eval"
   ]
  },
  {
   "cell_type": "code",
   "execution_count": 49,
   "metadata": {
    "collapsed": true
   },
   "outputs": [],
   "source": [
    "losses = []\n",
    "def train(print_every=500):\n",
    "    start = time.time()\n",
    "    for epoch in range(1, num_epochs):\n",
    "        total_loss = 0.0\n",
    "        for index in range(num_train):\n",
    "            \n",
    "            hidden = model.stack.begin_state(func=mx.nd.zeros, batch_size=batch_size, ctx=ctx)\n",
    "            with autograd.record():\n",
    "#                 index = random.randint(0, num_train_data - 1)\n",
    "                data = train_data_onehot[index].as_in_context(ctx)\n",
    "                # since we do not have a batch size we'll reshape it to a batch_size of 1.\n",
    "                data = data.reshape(((1,) + data.shape))                \n",
    "\n",
    "                target = train_label_onehot[index].as_in_context(ctx)\n",
    "                target = mx.nd.split(data=target, axis=0, num_outputs=1, squeeze_axis=True)\n",
    "#                 print('target_shape.', target.shape)\n",
    "                \n",
    "                output = model.forward(data, data.shape[1])\n",
    "#                 print('forward_output.shape', output.shape)\n",
    "                \n",
    "                output = output.reshape((target.shape[0], 1))\n",
    "    \n",
    "#                 print('forward_output.reshape.shape', output.shape)\n",
    "                \n",
    "                softmax_out = mx.nd.softmax(output, axis=0)\n",
    "                L = mx.nd.softmax_cross_entropy(data=output, label=target)\n",
    "                L.backward()\n",
    "            \n",
    "            trainer.step(batch_size)\n",
    "\n",
    "            total_loss += L.asscalar()\n",
    "        \n",
    "        val_loss = eval()\n",
    "            \n",
    "        losses.append(total_loss)\n",
    "        print('[Epoch %d] Training loss=%f, Val loss=%f, time=%s'%(epoch, total_loss/num_train, val_loss, timeSince(start)))"
   ]
  },
  {
   "cell_type": "code",
   "execution_count": 50,
   "metadata": {},
   "outputs": [
    {
     "name": "stdout",
     "output_type": "stream",
     "text": [
      "[Epoch 1] Training loss=0.648450, Val loss=0.670010, time=6m 29s\n",
      "[Epoch 2] Training loss=0.648450, Val loss=0.670010, time=12m 49s\n",
      "[Epoch 3] Training loss=0.648450, Val loss=0.670010, time=19m 7s\n"
     ]
    },
    {
     "ename": "KeyboardInterrupt",
     "evalue": "",
     "output_type": "error",
     "traceback": [
      "\u001b[0;31m---------------------------------------------------------------------------\u001b[0m",
      "\u001b[0;31mKeyboardInterrupt\u001b[0m                         Traceback (most recent call last)",
      "\u001b[0;32m<ipython-input-50-93fd337a0d5c>\u001b[0m in \u001b[0;36m<module>\u001b[0;34m()\u001b[0m\n\u001b[0;32m----> 1\u001b[0;31m \u001b[0mtrain\u001b[0m\u001b[0;34m(\u001b[0m\u001b[0;34m)\u001b[0m\u001b[0;34m\u001b[0m\u001b[0m\n\u001b[0m",
      "\u001b[0;32m<ipython-input-49-c40aa1ad7e16>\u001b[0m in \u001b[0;36mtrain\u001b[0;34m(print_every)\u001b[0m\n\u001b[1;32m     17\u001b[0m \u001b[0;31m#                 print('target_shape.', target.shape)\u001b[0m\u001b[0;34m\u001b[0m\u001b[0;34m\u001b[0m\u001b[0m\n\u001b[1;32m     18\u001b[0m \u001b[0;34m\u001b[0m\u001b[0m\n\u001b[0;32m---> 19\u001b[0;31m                 \u001b[0moutput\u001b[0m \u001b[0;34m=\u001b[0m \u001b[0mmodel\u001b[0m\u001b[0;34m.\u001b[0m\u001b[0mforward\u001b[0m\u001b[0;34m(\u001b[0m\u001b[0mdata\u001b[0m\u001b[0;34m,\u001b[0m \u001b[0mdata\u001b[0m\u001b[0;34m.\u001b[0m\u001b[0mshape\u001b[0m\u001b[0;34m[\u001b[0m\u001b[0;36m1\u001b[0m\u001b[0;34m]\u001b[0m\u001b[0;34m)\u001b[0m\u001b[0;34m\u001b[0m\u001b[0m\n\u001b[0m\u001b[1;32m     20\u001b[0m \u001b[0;31m#                 print('forward_output.shape', output.shape)\u001b[0m\u001b[0;34m\u001b[0m\u001b[0;34m\u001b[0m\u001b[0m\n\u001b[1;32m     21\u001b[0m \u001b[0;34m\u001b[0m\u001b[0m\n",
      "\u001b[0;32m<ipython-input-46-a485a26000ec>\u001b[0m in \u001b[0;36mforward\u001b[0;34m(self, inputs, seq_length)\u001b[0m\n\u001b[1;32m     14\u001b[0m     \u001b[0;32mdef\u001b[0m \u001b[0mforward\u001b[0m\u001b[0;34m(\u001b[0m\u001b[0mself\u001b[0m\u001b[0;34m,\u001b[0m \u001b[0minputs\u001b[0m\u001b[0;34m,\u001b[0m \u001b[0mseq_length\u001b[0m\u001b[0;34m)\u001b[0m\u001b[0;34m:\u001b[0m\u001b[0;34m\u001b[0m\u001b[0m\n\u001b[1;32m     15\u001b[0m \u001b[0;31m#         print('inputs.shape', inputs.shape)\u001b[0m\u001b[0;34m\u001b[0m\u001b[0;34m\u001b[0m\u001b[0m\n\u001b[0;32m---> 16\u001b[0;31m         \u001b[0mlstm_output\u001b[0m\u001b[0;34m,\u001b[0m \u001b[0mhidden\u001b[0m \u001b[0;34m=\u001b[0m \u001b[0mself\u001b[0m\u001b[0;34m.\u001b[0m\u001b[0mstack\u001b[0m\u001b[0;34m.\u001b[0m\u001b[0munroll\u001b[0m\u001b[0;34m(\u001b[0m\u001b[0mseq_length\u001b[0m\u001b[0;34m,\u001b[0m \u001b[0minputs\u001b[0m\u001b[0;34m,\u001b[0m \u001b[0mlayout\u001b[0m\u001b[0;34m=\u001b[0m\u001b[0;34m'NTC'\u001b[0m\u001b[0;34m,\u001b[0m \u001b[0mmerge_outputs\u001b[0m\u001b[0;34m=\u001b[0m\u001b[0mTrue\u001b[0m\u001b[0;34m)\u001b[0m\u001b[0;34m\u001b[0m\u001b[0m\n\u001b[0m\u001b[1;32m     17\u001b[0m \u001b[0;31m#         print('lstm_output.shape', lstm_output.shape)\u001b[0m\u001b[0;34m\u001b[0m\u001b[0;34m\u001b[0m\u001b[0m\n\u001b[1;32m     18\u001b[0m         \u001b[0mdrop_output\u001b[0m \u001b[0;34m=\u001b[0m \u001b[0mself\u001b[0m\u001b[0;34m.\u001b[0m\u001b[0mdrop\u001b[0m\u001b[0;34m.\u001b[0m\u001b[0mforward\u001b[0m\u001b[0;34m(\u001b[0m\u001b[0mlstm_output\u001b[0m\u001b[0;34m)\u001b[0m\u001b[0;34m\u001b[0m\u001b[0m\n",
      "\u001b[0;32m/usr/local/lib/python2.7/dist-packages/mxnet-0.10.1-py2.7.egg/mxnet/gluon/rnn/rnn_cell.pyc\u001b[0m in \u001b[0;36munroll\u001b[0;34m(self, length, inputs, begin_state, layout, merge_outputs)\u001b[0m\n\u001b[1;32m    519\u001b[0m             \u001b[0mp\u001b[0m \u001b[0;34m+=\u001b[0m \u001b[0mn\u001b[0m\u001b[0;34m\u001b[0m\u001b[0m\n\u001b[1;32m    520\u001b[0m             inputs, states = cell.unroll(length, inputs=inputs, begin_state=states, layout=layout,\n\u001b[0;32m--> 521\u001b[0;31m                                          merge_outputs=None if i < num_cells-1 else merge_outputs)\n\u001b[0m\u001b[1;32m    522\u001b[0m             \u001b[0mnext_states\u001b[0m\u001b[0;34m.\u001b[0m\u001b[0mextend\u001b[0m\u001b[0;34m(\u001b[0m\u001b[0mstates\u001b[0m\u001b[0;34m)\u001b[0m\u001b[0;34m\u001b[0m\u001b[0m\n\u001b[1;32m    523\u001b[0m \u001b[0;34m\u001b[0m\u001b[0m\n",
      "\u001b[0;32m/usr/local/lib/python2.7/dist-packages/mxnet-0.10.1-py2.7.egg/mxnet/gluon/rnn/rnn_cell.pyc\u001b[0m in \u001b[0;36munroll\u001b[0;34m(self, length, inputs, begin_state, layout, merge_outputs)\u001b[0m\n\u001b[1;32m    192\u001b[0m         \u001b[0moutputs\u001b[0m \u001b[0;34m=\u001b[0m \u001b[0;34m[\u001b[0m\u001b[0;34m]\u001b[0m\u001b[0;34m\u001b[0m\u001b[0m\n\u001b[1;32m    193\u001b[0m         \u001b[0;32mfor\u001b[0m \u001b[0mi\u001b[0m \u001b[0;32min\u001b[0m \u001b[0mrange\u001b[0m\u001b[0;34m(\u001b[0m\u001b[0mlength\u001b[0m\u001b[0;34m)\u001b[0m\u001b[0;34m:\u001b[0m\u001b[0;34m\u001b[0m\u001b[0m\n\u001b[0;32m--> 194\u001b[0;31m             \u001b[0moutput\u001b[0m\u001b[0;34m,\u001b[0m \u001b[0mstates\u001b[0m \u001b[0;34m=\u001b[0m \u001b[0mself\u001b[0m\u001b[0;34m(\u001b[0m\u001b[0minputs\u001b[0m\u001b[0;34m[\u001b[0m\u001b[0mi\u001b[0m\u001b[0;34m]\u001b[0m\u001b[0;34m,\u001b[0m \u001b[0mstates\u001b[0m\u001b[0;34m)\u001b[0m\u001b[0;34m\u001b[0m\u001b[0m\n\u001b[0m\u001b[1;32m    195\u001b[0m             \u001b[0moutputs\u001b[0m\u001b[0;34m.\u001b[0m\u001b[0mappend\u001b[0m\u001b[0;34m(\u001b[0m\u001b[0moutput\u001b[0m\u001b[0;34m)\u001b[0m\u001b[0;34m\u001b[0m\u001b[0m\n\u001b[1;32m    196\u001b[0m \u001b[0;34m\u001b[0m\u001b[0m\n",
      "\u001b[0;32m/usr/local/lib/python2.7/dist-packages/mxnet-0.10.1-py2.7.egg/mxnet/gluon/block.pyc\u001b[0m in \u001b[0;36m__call__\u001b[0;34m(self, *args)\u001b[0m\n\u001b[1;32m    196\u001b[0m     \u001b[0;32mdef\u001b[0m \u001b[0m__call__\u001b[0m\u001b[0;34m(\u001b[0m\u001b[0mself\u001b[0m\u001b[0;34m,\u001b[0m \u001b[0;34m*\u001b[0m\u001b[0margs\u001b[0m\u001b[0;34m)\u001b[0m\u001b[0;34m:\u001b[0m\u001b[0;34m\u001b[0m\u001b[0m\n\u001b[1;32m    197\u001b[0m         \u001b[0;34m\"\"\"Calls forward. Only accepts positional arguments.\"\"\"\u001b[0m\u001b[0;34m\u001b[0m\u001b[0m\n\u001b[0;32m--> 198\u001b[0;31m         \u001b[0;32mreturn\u001b[0m \u001b[0mself\u001b[0m\u001b[0;34m.\u001b[0m\u001b[0mforward\u001b[0m\u001b[0;34m(\u001b[0m\u001b[0;34m*\u001b[0m\u001b[0margs\u001b[0m\u001b[0;34m)\u001b[0m\u001b[0;34m\u001b[0m\u001b[0m\n\u001b[0m\u001b[1;32m    199\u001b[0m \u001b[0;34m\u001b[0m\u001b[0m\n\u001b[1;32m    200\u001b[0m     \u001b[0;32mdef\u001b[0m \u001b[0mforward\u001b[0m\u001b[0;34m(\u001b[0m\u001b[0mself\u001b[0m\u001b[0;34m,\u001b[0m \u001b[0;34m*\u001b[0m\u001b[0margs\u001b[0m\u001b[0;34m)\u001b[0m\u001b[0;34m:\u001b[0m\u001b[0;34m\u001b[0m\u001b[0m\n",
      "\u001b[0;32m/usr/local/lib/python2.7/dist-packages/mxnet-0.10.1-py2.7.egg/mxnet/gluon/rnn/rnn_cell.pyc\u001b[0m in \u001b[0;36mforward\u001b[0;34m(self, inputs, states)\u001b[0m\n\u001b[1;32m    235\u001b[0m         \u001b[0;31m# pylint: disable= arguments-differ\u001b[0m\u001b[0;34m\u001b[0m\u001b[0;34m\u001b[0m\u001b[0m\n\u001b[1;32m    236\u001b[0m         \u001b[0mself\u001b[0m\u001b[0;34m.\u001b[0m\u001b[0m_counter\u001b[0m \u001b[0;34m+=\u001b[0m \u001b[0;36m1\u001b[0m\u001b[0;34m\u001b[0m\u001b[0m\n\u001b[0;32m--> 237\u001b[0;31m         \u001b[0;32mreturn\u001b[0m \u001b[0msuper\u001b[0m\u001b[0;34m(\u001b[0m\u001b[0mRecurrentCell\u001b[0m\u001b[0;34m,\u001b[0m \u001b[0mself\u001b[0m\u001b[0;34m)\u001b[0m\u001b[0;34m.\u001b[0m\u001b[0mforward\u001b[0m\u001b[0;34m(\u001b[0m\u001b[0minputs\u001b[0m\u001b[0;34m,\u001b[0m \u001b[0mstates\u001b[0m\u001b[0;34m)\u001b[0m\u001b[0;34m\u001b[0m\u001b[0m\n\u001b[0m\u001b[1;32m    238\u001b[0m \u001b[0;34m\u001b[0m\u001b[0m\n\u001b[1;32m    239\u001b[0m \u001b[0;34m\u001b[0m\u001b[0m\n",
      "\u001b[0;32m/usr/local/lib/python2.7/dist-packages/mxnet-0.10.1-py2.7.egg/mxnet/gluon/block.pyc\u001b[0m in \u001b[0;36mforward\u001b[0;34m(self, x, *args)\u001b[0m\n\u001b[1;32m    328\u001b[0m                         \u001b[0mi\u001b[0m\u001b[0;34m.\u001b[0m\u001b[0m_finish_deferred_init\u001b[0m\u001b[0;34m(\u001b[0m\u001b[0;34m)\u001b[0m\u001b[0;34m\u001b[0m\u001b[0m\n\u001b[1;32m    329\u001b[0m                     \u001b[0mparams\u001b[0m \u001b[0;34m=\u001b[0m \u001b[0;34m{\u001b[0m\u001b[0mi\u001b[0m\u001b[0;34m:\u001b[0m \u001b[0mj\u001b[0m\u001b[0;34m.\u001b[0m\u001b[0mdata\u001b[0m\u001b[0;34m(\u001b[0m\u001b[0mctx\u001b[0m\u001b[0;34m)\u001b[0m \u001b[0;32mfor\u001b[0m \u001b[0mi\u001b[0m\u001b[0;34m,\u001b[0m \u001b[0mj\u001b[0m \u001b[0;32min\u001b[0m \u001b[0mself\u001b[0m\u001b[0;34m.\u001b[0m\u001b[0m_reg_params\u001b[0m\u001b[0;34m.\u001b[0m\u001b[0mitems\u001b[0m\u001b[0;34m(\u001b[0m\u001b[0;34m)\u001b[0m\u001b[0;34m}\u001b[0m\u001b[0;34m\u001b[0m\u001b[0m\n\u001b[0;32m--> 330\u001b[0;31m                 \u001b[0;32mreturn\u001b[0m \u001b[0mself\u001b[0m\u001b[0;34m.\u001b[0m\u001b[0mhybrid_forward\u001b[0m\u001b[0;34m(\u001b[0m\u001b[0mndarray\u001b[0m\u001b[0;34m,\u001b[0m \u001b[0mx\u001b[0m\u001b[0;34m,\u001b[0m \u001b[0;34m*\u001b[0m\u001b[0margs\u001b[0m\u001b[0;34m,\u001b[0m \u001b[0;34m**\u001b[0m\u001b[0mparams\u001b[0m\u001b[0;34m)\u001b[0m\u001b[0;34m\u001b[0m\u001b[0m\n\u001b[0m\u001b[1;32m    331\u001b[0m         \u001b[0;32melse\u001b[0m\u001b[0;34m:\u001b[0m\u001b[0;34m\u001b[0m\u001b[0m\n\u001b[1;32m    332\u001b[0m             \u001b[0;32massert\u001b[0m \u001b[0misinstance\u001b[0m\u001b[0;34m(\u001b[0m\u001b[0mx\u001b[0m\u001b[0;34m,\u001b[0m \u001b[0mSymbol\u001b[0m\u001b[0;34m)\u001b[0m\u001b[0;34m,\u001b[0m\u001b[0;31m \u001b[0m\u001b[0;31m\\\u001b[0m\u001b[0;34m\u001b[0m\u001b[0m\n",
      "\u001b[0;32m/usr/local/lib/python2.7/dist-packages/mxnet-0.10.1-py2.7.egg/mxnet/gluon/rnn/rnn_cell.pyc\u001b[0m in \u001b[0;36mhybrid_forward\u001b[0;34m(self, F, inputs, states, i2h_weight, h2h_weight, i2h_bias, h2h_bias)\u001b[0m\n\u001b[1;32m    366\u001b[0m         i2h = F.FullyConnected(data=inputs, weight=i2h_weight, bias=i2h_bias,\n\u001b[1;32m    367\u001b[0m                                \u001b[0mnum_hidden\u001b[0m\u001b[0;34m=\u001b[0m\u001b[0mself\u001b[0m\u001b[0;34m.\u001b[0m\u001b[0m_hidden_size\u001b[0m\u001b[0;34m*\u001b[0m\u001b[0;36m4\u001b[0m\u001b[0;34m,\u001b[0m\u001b[0;34m\u001b[0m\u001b[0m\n\u001b[0;32m--> 368\u001b[0;31m                                name='%si2h'%name)\n\u001b[0m\u001b[1;32m    369\u001b[0m         h2h = F.FullyConnected(data=states[0], weight=h2h_weight, bias=h2h_bias,\n\u001b[1;32m    370\u001b[0m                                \u001b[0mnum_hidden\u001b[0m\u001b[0;34m=\u001b[0m\u001b[0mself\u001b[0m\u001b[0;34m.\u001b[0m\u001b[0m_hidden_size\u001b[0m\u001b[0;34m*\u001b[0m\u001b[0;36m4\u001b[0m\u001b[0;34m,\u001b[0m\u001b[0;34m\u001b[0m\u001b[0m\n",
      "\u001b[0;32m/usr/local/lib/python2.7/dist-packages/mxnet-0.10.1-py2.7.egg/mxnet/ndarray.pyc\u001b[0m in \u001b[0;36mFullyConnected\u001b[0;34m(data, weight, bias, num_hidden, no_bias, out, name, **kwargs)\u001b[0m\n",
      "\u001b[0;32m/usr/local/lib/python2.7/dist-packages/mxnet-0.10.1-py2.7.egg/mxnet/_ctypes/ndarray.pyc\u001b[0m in \u001b[0;36m_imperative_invoke\u001b[0;34m(handle, ndargs, keys, vals, out)\u001b[0m\n\u001b[1;32m     70\u001b[0m         \u001b[0mctypes\u001b[0m\u001b[0;34m.\u001b[0m\u001b[0mc_int\u001b[0m\u001b[0;34m(\u001b[0m\u001b[0mlen\u001b[0m\u001b[0;34m(\u001b[0m\u001b[0mkeys\u001b[0m\u001b[0;34m)\u001b[0m\u001b[0;34m)\u001b[0m\u001b[0;34m,\u001b[0m\u001b[0;34m\u001b[0m\u001b[0m\n\u001b[1;32m     71\u001b[0m         \u001b[0mc_array\u001b[0m\u001b[0;34m(\u001b[0m\u001b[0mctypes\u001b[0m\u001b[0;34m.\u001b[0m\u001b[0mc_char_p\u001b[0m\u001b[0;34m,\u001b[0m \u001b[0;34m[\u001b[0m\u001b[0mc_str\u001b[0m\u001b[0;34m(\u001b[0m\u001b[0mkey\u001b[0m\u001b[0;34m)\u001b[0m \u001b[0;32mfor\u001b[0m \u001b[0mkey\u001b[0m \u001b[0;32min\u001b[0m \u001b[0mkeys\u001b[0m\u001b[0;34m]\u001b[0m\u001b[0;34m)\u001b[0m\u001b[0;34m,\u001b[0m\u001b[0;34m\u001b[0m\u001b[0m\n\u001b[0;32m---> 72\u001b[0;31m         c_array(ctypes.c_char_p, [c_str(str(val)) for val in vals])))\n\u001b[0m\u001b[1;32m     73\u001b[0m \u001b[0;34m\u001b[0m\u001b[0m\n\u001b[1;32m     74\u001b[0m     \u001b[0;32mif\u001b[0m \u001b[0moriginal_output\u001b[0m \u001b[0;32mis\u001b[0m \u001b[0;32mnot\u001b[0m \u001b[0mNone\u001b[0m\u001b[0;34m:\u001b[0m\u001b[0;34m\u001b[0m\u001b[0m\n",
      "\u001b[0;31mKeyboardInterrupt\u001b[0m: "
     ]
    }
   ],
   "source": [
    "train()"
   ]
  },
  {
   "cell_type": "code",
   "execution_count": null,
   "metadata": {
    "collapsed": true
   },
   "outputs": [],
   "source": []
  }
 ],
 "metadata": {
  "kernelspec": {
   "display_name": "Python 2",
   "language": "python",
   "name": "python2"
  },
  "language_info": {
   "codemirror_mode": {
    "name": "ipython",
    "version": 2
   },
   "file_extension": ".py",
   "mimetype": "text/x-python",
   "name": "python",
   "nbconvert_exporter": "python",
   "pygments_lexer": "ipython2",
   "version": "2.7.6"
  }
 },
 "nbformat": 4,
 "nbformat_minor": 2
}
